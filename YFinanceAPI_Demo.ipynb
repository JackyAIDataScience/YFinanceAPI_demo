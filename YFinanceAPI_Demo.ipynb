{
  "nbformat": 4,
  "nbformat_minor": 0,
  "metadata": {
    "colab": {
      "provenance": []
    },
    "kernelspec": {
      "name": "python3",
      "display_name": "Python 3"
    },
    "language_info": {
      "name": "python"
    }
  },
  "cells": [
    {
      "cell_type": "code",
      "execution_count": 2,
      "metadata": {
        "id": "GRxryR-QrGQK"
      },
      "outputs": [],
      "source": [
        "#!pip3 install yfinance"
      ]
    },
    {
      "cell_type": "markdown",
      "source": [
        "This program will implement the Yahoo Finance Pyton API to retrieve the yohoo Finance Information."
      ],
      "metadata": {
        "id": "UOUReO4BtBBm"
      }
    },
    {
      "cell_type": "markdown",
      "source": [
        "# **The ***yfinance *** library offers Python users a seamless way to retrieve stock data from Yahoo Finance. Whether you're a beginner or a seasoned analyst, this library provides a range of functionalities to help you gather and analyze stock information. In this blog post, we will delve into 10 fundamental ways to retrieve stock data using ***yfinance***.**"
      ],
      "metadata": {
        "id": "vf4DnmjlKyTn"
      }
    },
    {
      "cell_type": "markdown",
      "source": [
        "**1. Fetching Historical Data**.         \n",
        "The download method is your go-to for obtaining historical data for any stock.\n",
        "\n"
      ],
      "metadata": {
        "id": "oAfPwIScKoMe"
      }
    },
    {
      "cell_type": "code",
      "source": [
        "import yfinance as yf\n",
        "import logging as log\n",
        "import datetime as dt\n",
        "from concurrent.futures import ThreadPoolExecutor\n",
        "\n",
        "# Configure the logger\n",
        "log.basicConfig(level=log.DEBUG, format='%(asctime)s - %(levelname)s - %(message)s')\n",
        "\n",
        "# Log messages at different levels\n",
        "log.debug('This is a debug message')\n",
        "\n",
        "#Log setting for info\n",
        "log.basicConfig(level=log.info)\n",
        "log.getLogger().setLevel(log.INFO)\n",
        "\n",
        "data = yf.download(\"AMZN AAPL GOOG MSFT NVDA META\", start=\"2025-01-01\", end=\"2025-06-10\")\n",
        "\n",
        "log.info(data.head())\n"
      ],
      "metadata": {
        "colab": {
          "base_uri": "https://localhost:8080/"
        },
        "id": "7FMbzPZPtdze",
        "outputId": "e61b2d24-7e23-4caa-9945-e6b1ba8b1325"
      },
      "execution_count": 71,
      "outputs": [
        {
          "output_type": "stream",
          "name": "stderr",
          "text": [
            "[*********************100%***********************]  6 of 6 completed\n",
            "INFO:root:Price            Close                                                  \\\n",
            "Ticker            AAPL        AMZN        GOOG        META        MSFT   \n",
            "Date                                                                     \n",
            "2025-01-02  243.263199  220.220001  190.184464  598.707336  416.976868   \n",
            "2025-01-03  242.774368  224.190002  192.678635  604.092529  421.728607   \n",
            "2025-01-06  244.410416  227.610001  197.497345  629.639832  426.211365   \n",
            "2025-01-07  241.627136  222.110001  196.250259  617.340759  420.752350   \n",
            "2025-01-08  242.115936  222.130005  194.933350  610.177124  422.933990   \n",
            "\n",
            "Price                         High                                      ...  \\\n",
            "Ticker            NVDA        AAPL        AMZN        GOOG        META  ...   \n",
            "Date                                                                    ...   \n",
            "2025-01-02  138.287674  248.500565  225.149994  192.748449  604.372279  ...   \n",
            "2025-01-03  144.446686  243.592387  225.360001  194.045428  608.958195  ...   \n",
            "2025-01-06  149.405869  246.734810  228.839996  199.093596  630.429107  ...   \n",
            "2025-01-07  140.117371  244.959095  228.380005  201.667561  631.538089  ...   \n",
            "2025-01-08  140.087387  243.123515  223.520004  197.178091  615.892071  ...   \n",
            "\n",
            "Price             Open                                        Volume  \\\n",
            "Ticker            GOOG        META        MSFT        NVDA      AAPL   \n",
            "Date                                                                   \n",
            "2025-01-02  191.037461  589.195779  423.900262  135.978049  55740700   \n",
            "2025-01-03  192.274582  604.222419  419.467282  139.987399  40244100   \n",
            "2025-01-06  194.693900  611.286165  426.360784  148.566008  45045600   \n",
            "2025-01-07  197.806611  631.138481  427.356962  153.005289  40856000   \n",
            "2025-01-08  193.496713  612.854796  421.838197  142.556990  37628900   \n",
            "\n",
            "Price                                                          \n",
            "Ticker          AMZN      GOOG      META      MSFT       NVDA  \n",
            "Date                                                           \n",
            "2025-01-02  33956600  17545200  12682300  16896500  198247200  \n",
            "2025-01-03  27515600  12875000  11436800  16662900  229322500  \n",
            "2025-01-06  31849800  19483300  14560800  20573600  265377400  \n",
            "2025-01-07  28084200  16966800  12071500  18139100  351782200  \n",
            "2025-01-08  25033300  14335300  10085800  15054600  227349900  \n",
            "\n",
            "[5 rows x 30 columns]\n"
          ]
        }
      ]
    },
    {
      "cell_type": "markdown",
      "source": [
        "#Testing Purpose"
      ],
      "metadata": {
        "id": "aKab0-9-Na69"
      }
    },
    {
      "cell_type": "code",
      "source": [
        "def get_stats(ticker):\n",
        "    info = yf.Tickers(ticker).tickers[ticker].info\n",
        "    print(f\"{ticker} {info['currentPrice']} {info['marketCap']}\")\n",
        "\n",
        "ticker_list = ['AAPL', 'ORCL', 'PREM.L', 'UKOG.L', 'KOD.L', 'TOM.L', 'VELA.L', 'MSFT', 'AMZN', 'GOOG']\n",
        "\n",
        "with ThreadPoolExecutor() as executor:\n",
        "    executor.map(get_stats, ticker_list)"
      ],
      "metadata": {
        "colab": {
          "base_uri": "https://localhost:8080/"
        },
        "id": "DXnMeuUvNIy-",
        "outputId": "87cbf88f-05e6-4b1d-fd37-be2f1a7d91ab"
      },
      "execution_count": 39,
      "outputs": [
        {
          "output_type": "stream",
          "name": "stdout",
          "text": [
            "AAPL 196.45 2934137946112\n",
            "PREM.L 0.0122 5669047\n",
            "TOM.L 0.0475 1854466\n",
            "ORCL 215.22 603526332416\n",
            "KOD.L 0.261 52845716\n",
            "UKOG.L 0.0102 1675268\n",
            "MSFT 474.96 3530159292416\n",
            "AMZN 212.1 2251738578944\n",
            "GOOG 175.88 2126178287616\n"
          ]
        }
      ]
    },
    {
      "cell_type": "markdown",
      "source": [
        "**2. Ticker Object**.                  \n",
        "The Ticker class allows you to access various data for a specific stock.\n",
        "\n"
      ],
      "metadata": {
        "id": "Ywa2a3WjO1v3"
      }
    },
    {
      "cell_type": "code",
      "source": [
        "def get_stats(ticker):\n",
        "    result = yf.Tickers(ticker).tickers[ticker].info\n",
        "\n",
        "    log.info(f\"{ticker} {result['displayName']}\")\n",
        "    # General display name about Inc.\n",
        "\n",
        "#AMZN AAPL GOOG MSFT NVDA\n",
        "ticker_list = ['AAPL','MSFT', 'AMZN', 'GOOG','NVDA',\"META\" ]\n",
        "\n",
        "with ThreadPoolExecutor() as executor:\n",
        "    executor.map(get_stats, ticker_list)\n",
        "\n"
      ],
      "metadata": {
        "colab": {
          "base_uri": "https://localhost:8080/"
        },
        "id": "myRh67WcsvJ_",
        "outputId": "19a059d9-96e3-466f-e0fd-d3192d61ac55"
      },
      "execution_count": 53,
      "outputs": [
        {
          "output_type": "stream",
          "name": "stderr",
          "text": [
            "INFO:root:NVDA NVIDIA\n",
            "INFO:root:MSFT Microsoft\n",
            "INFO:root:AAPL Apple\n",
            "INFO:root:AMZN Amazon.com\n",
            "INFO:root:GOOG Alphabet\n",
            "INFO:root:META Meta Platforms\n"
          ]
        }
      ]
    },
    {
      "cell_type": "markdown",
      "source": [
        "**3. Getting Recent Data**              \n",
        "Want data for the most recent trading days? Here’s how:"
      ],
      "metadata": {
        "id": "X6aYUa4HU8Yf"
      }
    },
    {
      "cell_type": "code",
      "source": [
        "multi_data = yf.download([\"AAPL\",\"AMZN\" , 'GOOG'], start=\"2025-05-01\", end=\"2025-06-10\")\n",
        "log.info(multi_data)"
      ],
      "metadata": {
        "colab": {
          "base_uri": "https://localhost:8080/"
        },
        "id": "I3be6y4sunoA",
        "outputId": "7492a566-8b36-4505-fcc5-aa7f100f16c3"
      },
      "execution_count": 59,
      "outputs": [
        {
          "output_type": "stream",
          "name": "stderr",
          "text": [
            "[*********************100%***********************]  3 of 3 completed\n",
            "INFO:root:Price            Close                                High              \\\n",
            "Ticker            AAPL        AMZN        GOOG        AAPL        AMZN   \n",
            "Date                                                                     \n",
            "2025-05-01  213.040634  190.199997  162.594559  214.279000  191.809998   \n",
            "2025-05-02  205.081070  189.979996  165.610931  206.718922  192.880005   \n",
            "2025-05-05  198.629532  186.350006  165.850647  203.832716  188.179993   \n",
            "2025-05-06  198.250015  185.009995  165.001663  200.387212  187.929993   \n",
            "2025-05-07  195.992981  188.710007  152.616562  199.178806  190.990005   \n",
            "2025-05-08  197.231369  192.080002  155.563019  199.788014  194.330002   \n",
            "2025-05-09  198.270004  193.059998  154.194656  200.277366  194.690002   \n",
            "2025-05-12  210.789993  208.639999  159.388412  211.270004  211.660004   \n",
            "2025-05-13  212.929993  211.369995  160.696838  213.399994  214.839996   \n",
            "2025-05-14  212.330002  210.250000  166.609726  213.940002  211.929993   \n",
            "2025-05-15  211.449997  205.169998  165.201416  212.960007  206.880005   \n",
            "2025-05-16  211.259995  205.589996  167.228989  212.570007  206.850006   \n",
            "2025-05-19  208.779999  206.160004  167.668457  209.479996  206.619995   \n",
            "2025-05-20  206.860001  204.070007  165.121536  208.470001  205.589996   \n",
            "2025-05-21  202.089996  201.119995  169.855835  207.039993  203.460007   \n",
            "2025-05-22  201.360001  203.100006  171.773529  202.750000  205.759995   \n",
            "2025-05-23  195.270004  200.990005  169.386398  197.699997  202.369995   \n",
            "2025-05-27  200.210007  206.020004  173.771118  200.740005  206.690002   \n",
            "2025-05-28  200.419998  204.720001  173.171860  202.729996  207.660004   \n",
            "2025-05-29  199.949997  205.699997  172.752365  203.809998  208.809998   \n",
            "2025-05-30  200.850006  205.009995  172.642487  201.960007  205.990005   \n",
            "2025-06-02  201.699997  206.649994  170.165451  202.130005  207.000000   \n",
            "2025-06-03  203.270004  205.710007  167.508667  203.770004  208.949997   \n",
            "2025-06-04  202.820007  207.229996  169.186630  206.240005  208.179993   \n",
            "2025-06-05  200.630005  207.910004  169.606125  204.750000  212.809998   \n",
            "2025-06-06  203.919998  213.570007  174.709991  205.699997  213.869995   \n",
            "2025-06-09  201.449997  216.979996  177.630005  206.000000  217.850006   \n",
            "\n",
            "Price                          Low                                Open  \\\n",
            "Ticker            GOOG        AAPL        AMZN        GOOG        AAPL   \n",
            "Date                                                                     \n",
            "2025-05-01  163.743187  208.626409  187.500000  160.736791  208.806182   \n",
            "2025-05-02  166.499862  201.895245  186.399994  163.463519  205.820091   \n",
            "2025-05-05  166.899389  197.950430  185.529999  164.272542  202.834025   \n",
            "2025-05-06  166.539823  196.761976  183.850006  162.934156  197.950420   \n",
            "2025-05-07  166.789529  192.996910  185.009995  149.310538  198.909155   \n",
            "2025-05-08  157.221030  194.425036  188.820007  153.915006  197.461064   \n",
            "2025-05-09  156.242183  197.281295  191.160004  153.645314  198.739390   \n",
            "2025-05-12  160.247381  206.750000  205.750000  157.700439  210.970001   \n",
            "2025-05-13  161.865432  209.000000  210.100006  157.390815  210.429993   \n",
            "2025-05-14  168.137888  210.580002  208.850006  160.736781  212.429993   \n",
            "2025-05-15  167.308883  209.539993  202.669998  163.643291  210.949997   \n",
            "2025-05-16  170.445124  209.770004  204.369995  166.749569  212.360001   \n",
            "2025-05-19  167.748363  204.259995  201.259995  165.216403  207.910004   \n",
            "2025-05-20  169.476287  205.029999  202.649994  164.062796  207.669998   \n",
            "2025-05-21  174.320470  200.710007  200.059998  164.692044  205.169998   \n",
            "2025-05-22  177.916155  199.699997  200.160004  171.673658  200.710007   \n",
            "2025-05-23  170.999465  193.460007  197.850006  169.056793  193.669998   \n",
            "2025-05-27  174.080744  197.429993  202.190002  171.004455  198.300003   \n",
            "2025-05-28  176.268129  199.899994  204.410004  172.807292  200.589996   \n",
            "2025-05-29  175.189423  198.509995  204.229996  171.573774  203.580002   \n",
            "2025-05-30  173.231775  196.779999  201.699997  168.322667  199.369995   \n",
            "2025-06-02  170.856622  200.119995  202.679993  168.447515  200.279999   \n",
            "2025-06-03  169.596154  200.960007  205.029999  166.479890  201.350006   \n",
            "2025-06-04  169.376405  202.100006  205.179993  167.593544  202.910004   \n",
            "2025-06-05  172.153066  200.149994  207.559998  169.146686  203.500000   \n",
            "2025-06-06  175.618903  202.050003  210.500000  172.093142  203.000000   \n",
            "2025-06-09  177.914993  200.020004  212.880005  175.660004  204.389999   \n",
            "\n",
            "Price                                  Volume                      \n",
            "Ticker            AMZN        GOOG       AAPL      AMZN      GOOG  \n",
            "Date                                                               \n",
            "2025-05-01  190.630005  162.324894   57365700  74266000  21904300  \n",
            "2025-05-02  191.440002  164.756962  101010600  77903500  16844900  \n",
            "2025-05-05  186.509995  164.317486   69018500  35217500  15309300  \n",
            "2025-05-06  184.570007  163.763162   51216500  29314100  10691900  \n",
            "2025-05-07  185.559998  165.870635   68536700  43948600  78729800  \n",
            "2025-05-08  191.429993  155.732813   50478900  41043600  38387500  \n",
            "2025-05-09  193.380005  155.363250   36453900  29663100  22871000  \n",
            "2025-05-12  210.710007  158.908993   63775800  75205000  31884900  \n",
            "2025-05-13  211.080002  159.728002   51909300  56193700  24944300  \n",
            "2025-05-14  211.449997  161.116329   49325800  38492100  31769200  \n",
            "2025-05-15  206.449997  166.939332   45029500  64347300  22717600  \n",
            "2025-05-16  206.850006  168.727188   54737900  43318500  36271400  \n",
            "2025-05-19  201.649994  165.516045   46140500  34314800  21374700  \n",
            "2025-05-20  204.630005  167.558594   42496600  29470400  33563300  \n",
            "2025-05-21  201.610001  164.751969   59211800  42460900  45567600  \n",
            "2025-05-22  201.380005  173.141895   46742400  38938900  45024100  \n",
            "2025-05-23  198.899994  170.075572   78432900  33393500  24963600  \n",
            "2025-05-27  203.089996  171.094343   56288500  34892000  24341300  \n",
            "2025-05-28  205.919998  173.771130   45339700  28549800  25999200  \n",
            "2025-05-29  208.029999  174.789909   51396800  34650000  21233600  \n",
            "2025-05-30  204.839996  172.203012   70819900  51679400  36258300  \n",
            "2025-06-02  204.979996  168.807083   35423300  29113300  24742900  \n",
            "2025-06-03  207.110001  168.662279   46381600  33139100  25386700  \n",
            "2025-06-04  206.550003  168.077962   43604000  29915600  18508700  \n",
            "2025-06-05  209.550003  171.413949   55126100  51864200  25375400  \n",
            "2025-06-06  212.399994  172.093142   46607700  39832500  22258100  \n",
            "2025-06-09  214.750000  175.869995   72862600  38102500  18817600  \n"
          ]
        }
      ]
    },
    {
      "cell_type": "markdown",
      "source": [
        "**4. Fetching Data for Multiple Tickers**     \n",
        "Retrieve data for multiple stocks in one go"
      ],
      "metadata": {
        "id": "vfEd5Hu4VKeo"
      }
    },
    {
      "cell_type": "code",
      "source": [
        "#data = yf.download(\"AAPL\", start=\"2025-06-01\", end=\"2025-06-10\", auto_adjust=True)\n",
        "#log.info(data['Close'])  # This will show the adjusted close prices\n",
        "\n",
        "#AMZN AAPL GOOG MSFT NVDA\n",
        "ticker_list = ['AAPL','AMZN','GOOG']\n",
        "data = yf.download(ticker_list, start=\"2025-05-01\", end=\"2025-06-10\", auto_adjust=True)\n",
        "log.info(data['Close'])  # This will show the adjusted close prices\n"
      ],
      "metadata": {
        "colab": {
          "base_uri": "https://localhost:8080/"
        },
        "id": "Ig6VsFVTuWgQ",
        "outputId": "3db11177-f38a-4338-8c1f-35454182560d"
      },
      "execution_count": 66,
      "outputs": [
        {
          "output_type": "stream",
          "name": "stderr",
          "text": [
            "[*********************100%***********************]  3 of 3 completed\n",
            "INFO:root:Ticker            AAPL        AMZN        GOOG\n",
            "Date                                          \n",
            "2025-05-01  213.040634  190.199997  162.594559\n",
            "2025-05-02  205.081070  189.979996  165.610931\n",
            "2025-05-05  198.629532  186.350006  165.850647\n",
            "2025-05-06  198.250015  185.009995  165.001663\n",
            "2025-05-07  195.992981  188.710007  152.616562\n",
            "2025-05-08  197.231369  192.080002  155.563019\n",
            "2025-05-09  198.270004  193.059998  154.194656\n",
            "2025-05-12  210.789993  208.639999  159.388412\n",
            "2025-05-13  212.929993  211.369995  160.696838\n",
            "2025-05-14  212.330002  210.250000  166.609726\n",
            "2025-05-15  211.449997  205.169998  165.201416\n",
            "2025-05-16  211.259995  205.589996  167.228989\n",
            "2025-05-19  208.779999  206.160004  167.668457\n",
            "2025-05-20  206.860001  204.070007  165.121536\n",
            "2025-05-21  202.089996  201.119995  169.855835\n",
            "2025-05-22  201.360001  203.100006  171.773529\n",
            "2025-05-23  195.270004  200.990005  169.386398\n",
            "2025-05-27  200.210007  206.020004  173.771118\n",
            "2025-05-28  200.419998  204.720001  173.171860\n",
            "2025-05-29  199.949997  205.699997  172.752365\n",
            "2025-05-30  200.850006  205.009995  172.642487\n",
            "2025-06-02  201.699997  206.649994  170.165451\n",
            "2025-06-03  203.270004  205.710007  167.508667\n",
            "2025-06-04  202.820007  207.229996  169.186630\n",
            "2025-06-05  200.630005  207.910004  169.606125\n",
            "2025-06-06  203.919998  213.570007  174.709991\n",
            "2025-06-09  201.449997  216.979996  177.630005\n"
          ]
        }
      ]
    },
    {
      "cell_type": "markdown",
      "source": [],
      "metadata": {
        "id": "MhTc139Ov29k"
      }
    },
    {
      "cell_type": "markdown",
      "source": [
        "**5. Adjusted Data Retrieval**.          \n",
        "Obtain adjusted data, which accounts for stock splits, dividends, etc."
      ],
      "metadata": {
        "id": "GMg6skYnVaue"
      }
    },
    {
      "cell_type": "code",
      "source": [
        "monthly_data = yf.download(\"AMZN AAPL GOOG\", start=\"2024-01-01\", end=\"2025-06-10\", interval=\"1mo\" )\n",
        "log.info(monthly_data)"
      ],
      "metadata": {
        "colab": {
          "base_uri": "https://localhost:8080/"
        },
        "id": "IJn7aLzXv1l3",
        "outputId": "9a35e0e5-c1cd-4eb7-b414-badd55e99782"
      },
      "execution_count": 58,
      "outputs": [
        {
          "output_type": "stream",
          "name": "stderr",
          "text": [
            "[*********************100%***********************]  3 of 3 completed\n",
            "INFO:root:Price            Close                                High              \\\n",
            "Ticker            AAPL        AMZN        GOOG        AAPL        AMZN   \n",
            "Date                                                                     \n",
            "2024-01-01  183.059433  155.199997  140.962112  194.952351  161.729996   \n",
            "2024-02-01  179.435959  176.759995  138.954025  189.661082  177.220001   \n",
            "2024-03-01  170.450577  180.380005  151.360306  179.446251  181.699997   \n",
            "2024-04-01  169.307495  175.000000  163.667130  177.289289  189.770004   \n",
            "2024-05-01  191.095917  176.440002  172.932053  191.841414  191.699997   \n",
            "2024-06-01  209.639572  193.250000  182.336166  219.174980  199.839996   \n",
            "2024-07-01  221.046234  186.979996  172.322708  236.125706  201.199997   \n",
            "2024-08-01  227.934036  178.500000  164.321136  231.835787  190.600006   \n",
            "2024-09-01  232.183838  186.330002  166.391205  232.273519  195.369995   \n",
            "2024-10-01  225.118683  186.399994  172.091171  236.658122  195.610001   \n",
            "2024-11-01  236.498672  207.889999  169.898788  236.976987  215.899994   \n",
            "2024-12-01  249.817383  219.389999  189.779602  259.474097  233.000000   \n",
            "2025-01-01  235.432083  237.679993  205.119492  248.500565  241.770004   \n",
            "2025-02-01  241.258011  212.279999  171.817490  249.398378  242.520004   \n",
            "2025-03-01  221.839096  190.259995  155.864868  243.710409  214.009995   \n",
            "2025-04-01  212.221710  184.419998  160.696838  224.895094  198.339996   \n",
            "2025-05-01  200.586960  205.009995  172.642487  214.278996  214.839996   \n",
            "2025-06-01  196.449997  212.100006  175.668854  206.240005  218.399994   \n",
            "\n",
            "Price                          Low                                Open  \\\n",
            "Ticker            GOOG        AAPL        AMZN        GOOG        AAPL   \n",
            "Date                                                                     \n",
            "2024-01-01  154.282926  178.860189  144.050003  136.041365  185.789441   \n",
            "2024-02-01  149.804536  177.946864  155.619995  135.832580  182.652410   \n",
            "2024-03-01  152.294754  167.478536  171.470001  130.772688  178.472139   \n",
            "2024-04-01  175.377519  163.095014  166.320007  150.188245  170.162333   \n",
            "2024-05-01  178.886647  168.094828  173.869995  163.925577  168.562007   \n",
            "2024-06-01  186.392059  191.255548  175.919998  171.430987  192.002056   \n",
            "2024-07-01  192.386390  210.933525  176.800003  165.072526  211.102731   \n",
            "2024-08-01  174.840627  195.087647  151.610001  155.851801  223.325583   \n",
            "2024-09-01  166.560391  213.170670  171.160004  147.491929  227.749429   \n",
            "2024-10-01  183.152671  220.554724  180.250000  160.561285  228.716038   \n",
            "2024-11-01  183.386841  218.940397  194.309998  164.736743  220.195978   \n",
            "2024-12-01  202.176466  236.589297  209.509995  169.679549  236.699033   \n",
            "2025-01-01  206.596028  218.852083  216.199997  188.219080  248.330961   \n",
            "2025-02-01  208.212225  225.156852  204.160004  167.996439  229.436537   \n",
            "2025-03-01  176.486558  208.147044  184.399994  151.854274  241.473337   \n",
            "2025-04-01  168.038020  168.988409  161.380005  142.488729  219.522135   \n",
            "2025-05-01  177.916146  192.996907  183.850006  149.310531  208.806177   \n",
            "2025-06-01  182.225975  195.699997  202.679993  166.479887  200.279999   \n",
            "\n",
            "Price                                   Volume                         \n",
            "Ticker            AMZN        GOOG        AAPL        AMZN       GOOG  \n",
            "Date                                                                   \n",
            "2024-01-01  151.539993  138.775115  1187219300   953344900  428771200  \n",
            "2024-02-01  155.869995  142.840924  1161627000  1045061200  475231400  \n",
            "2024-03-01  176.750000  138.785059  1432782800   701928900  507013200  \n",
            "2024-04-01  180.789993  150.932827  1245717000   917021100  486888300  \n",
            "2024-05-01  181.639999  165.198012  1336537700   892301700  391987600  \n",
            "2024-06-01  177.699997  172.852545  1723984500   813276000  351403100  \n",
            "2024-07-01  193.490005  183.598577  1153099800   868061100  354565500  \n",
            "2024-08-01  189.289993  171.158308  1122667000   971023900  389619100  \n",
            "2024-09-01  177.550003  162.534719  1232140300   765028800  389120500  \n",
            "2024-10-01  184.899994  168.274451   930736000   733878800  381759000  \n",
            "2024-11-01  199.000000  170.945135   891640600   905937900  360654000  \n",
            "2024-12-01  209.960007  169.729378   977916100   760891000  447499100  \n",
            "2025-01-01  222.029999  191.037475  1200291700   652629200  324475100  \n",
            "2025-02-01  234.059998  201.742381   862272300   783613700  395448600  \n",
            "2025-03-01  213.350006  173.323969  1115239500   966721800  477940000  \n",
            "2025-04-01  187.860001  155.113553  1606488200  1312835200  537349300  \n",
            "2025-05-01  190.630005  162.324887  1195728200   937262700  630651800  \n",
            "2025-06-01  204.979996  168.807091   510934800   349536600  225188500  \n"
          ]
        }
      ]
    },
    {
      "cell_type": "markdown",
      "source": [
        "**7. Retrieving Dividends and Splits**       \n",
        "Access dividend and stock split history."
      ],
      "metadata": {
        "id": "chYTdq9mF-Ui"
      }
    },
    {
      "cell_type": "code",
      "source": [
        "# Define the list of stock symbols\n",
        "stock_list = [\"AAPL\", \"AMZN\", \"GOOG\"]\n",
        "\n",
        "# Define the start and end dates\n",
        "start_date = dt.datetime(2025, 1, 1)\n",
        "end_date = dt.datetime(2025, 6, 1)\n",
        "\n",
        "# Download the data\n",
        "data = yf.download(stock_list, start=start_date, end=end_date)\n",
        "\n",
        "# Access dividend data (if available)\n",
        "for stock in stock_list:\n",
        "    try:\n",
        "        dividends = yf.Ticker(stock).dividends\n",
        "        log.info(f\"Dividends for {stock}:\")\n",
        "        log.info(dividends)\n",
        "    except Exception as e:\n",
        "        log.debug(f\"Could not retrieve dividends for {stock}: {e}\")"
      ],
      "metadata": {
        "colab": {
          "base_uri": "https://localhost:8080/"
        },
        "id": "qNQiasmPzdmH",
        "outputId": "ef508e58-40e6-49e5-d01e-73cc3e620deb"
      },
      "execution_count": 75,
      "outputs": [
        {
          "output_type": "stream",
          "name": "stderr",
          "text": [
            "[*********************100%***********************]  3 of 3 completed\n",
            "INFO:root:Dividends for AAPL:\n",
            "INFO:root:Date\n",
            "1987-05-11 00:00:00-04:00    0.000536\n",
            "1987-08-10 00:00:00-04:00    0.000536\n",
            "1987-11-17 00:00:00-05:00    0.000714\n",
            "1988-02-12 00:00:00-05:00    0.000714\n",
            "1988-05-16 00:00:00-04:00    0.000714\n",
            "                               ...   \n",
            "2024-05-10 00:00:00-04:00    0.250000\n",
            "2024-08-12 00:00:00-04:00    0.250000\n",
            "2024-11-08 00:00:00-05:00    0.250000\n",
            "2025-02-10 00:00:00-05:00    0.250000\n",
            "2025-05-12 00:00:00-04:00    0.260000\n",
            "Name: Dividends, Length: 87, dtype: float64\n",
            "INFO:root:Dividends for AMZN:\n",
            "INFO:root:Series([], Name: Dividends, dtype: float64)\n",
            "INFO:root:Dividends for GOOG:\n",
            "INFO:root:Date\n",
            "2024-06-10 00:00:00-04:00    0.20\n",
            "2024-09-09 00:00:00-04:00    0.20\n",
            "2024-12-09 00:00:00-05:00    0.20\n",
            "2025-03-10 00:00:00-04:00    0.20\n",
            "2025-06-09 00:00:00-04:00    0.21\n",
            "Name: Dividends, dtype: float64\n"
          ]
        }
      ]
    },
    {
      "cell_type": "markdown",
      "source": [],
      "metadata": {
        "id": "y5hM8aphGLDV"
      }
    },
    {
      "cell_type": "code",
      "source": [
        "apple = yf.Tickers(\"AAPL GOOG AMZN\")\n",
        "log.info(apple.history(period=\"1d\"))"
      ],
      "metadata": {
        "colab": {
          "base_uri": "https://localhost:8080/"
        },
        "id": "6sgP0anmGOON",
        "outputId": "7da86aa6-bbd8-47b7-a40b-8c6d91fea758"
      },
      "execution_count": 69,
      "outputs": [
        {
          "output_type": "stream",
          "name": "stderr",
          "text": [
            "[*********************100%***********************]  3 of 3 completed\n",
            "INFO:root:Price            Close                         Dividends            \\\n",
            "Ticker            AAPL        AMZN        GOOG      AAPL AMZN GOOG   \n",
            "Date                                                                 \n",
            "2025-06-13  196.449997  212.100006  175.880005       0.0  0.0  0.0   \n",
            "\n",
            "Price             High                                 Low  ...              \\\n",
            "Ticker            AAPL        AMZN        GOOG        AAPL  ...        GOOG   \n",
            "Date                                                        ...               \n",
            "2025-06-13  200.369995  214.050003  178.343002  195.699997  ...  173.570007   \n",
            "\n",
            "Price             Open                         Stock Splits            \\\n",
            "Ticker            AAPL        AMZN        GOOG         AAPL AMZN GOOG   \n",
            "Date                                                                    \n",
            "2025-06-13  199.729996  209.960007  173.580002          0.0  0.0  0.0   \n",
            "\n",
            "Price         Volume                      \n",
            "Ticker          AAPL      AMZN      GOOG  \n",
            "Date                                      \n",
            "2025-06-13  51362400  29300100  20850800  \n",
            "\n",
            "[1 rows x 21 columns]\n"
          ]
        }
      ]
    },
    {
      "cell_type": "markdown",
      "source": [
        "**9. Data for Specific Dates**.         \n",
        "Obtain data for a specific date range"
      ],
      "metadata": {
        "id": "dF6eiNe5FbHj"
      }
    },
    {
      "cell_type": "code",
      "source": [
        "data = yf.download(\"AAPL GOOG AMZN\", start=\"2025-01-01\", end=\"2025-06-10\")\n",
        "log.info(data)\n"
      ],
      "metadata": {
        "colab": {
          "base_uri": "https://localhost:8080/"
        },
        "id": "a8aHES2X1aN-",
        "outputId": "c657ba77-2cb0-471b-e6a6-350392aff0bc"
      },
      "execution_count": 67,
      "outputs": [
        {
          "output_type": "stream",
          "name": "stderr",
          "text": [
            "[*********************100%***********************]  3 of 3 completed\n",
            "INFO:root:Price            Close                                High              \\\n",
            "Ticker            AAPL        AMZN        GOOG        AAPL        AMZN   \n",
            "Date                                                                     \n",
            "2025-01-02  243.263199  220.220001  190.184464  248.500565  225.149994   \n",
            "2025-01-03  242.774368  224.190002  192.678635  243.592387  225.360001   \n",
            "2025-01-06  244.410416  227.610001  197.497345  246.734810  228.839996   \n",
            "2025-01-07  241.627136  222.110001  196.250259  244.959095  228.380005   \n",
            "2025-01-08  242.115936  222.130005  194.933350  243.123515  223.520004   \n",
            "...                ...         ...         ...         ...         ...   \n",
            "2025-06-03  203.270004  205.710007  167.508667  203.770004  208.949997   \n",
            "2025-06-04  202.820007  207.229996  169.186630  206.240005  208.179993   \n",
            "2025-06-05  200.630005  207.910004  169.606125  204.750000  212.809998   \n",
            "2025-06-06  203.919998  213.570007  174.709991  205.699997  213.869995   \n",
            "2025-06-09  201.449997  216.979996  177.630005  206.000000  217.850006   \n",
            "\n",
            "Price                          Low                                Open  \\\n",
            "Ticker            GOOG        AAPL        AMZN        GOOG        AAPL   \n",
            "Date                                                                     \n",
            "2025-01-02  192.748449  241.238085  218.190002  188.268953  248.330961   \n",
            "2025-01-03  194.045428  241.307905  221.619995  190.902796  242.774368   \n",
            "2025-01-06  199.093596  242.614744  224.839996  194.604114  243.722074   \n",
            "2025-01-07  201.667561  240.769205  221.460007  195.482055  242.395272   \n",
            "2025-01-08  197.178091  239.472320  220.199997  193.297183  241.337815   \n",
            "...                ...         ...         ...         ...         ...   \n",
            "2025-06-03  169.596154  200.960007  205.029999  166.479890  201.350006   \n",
            "2025-06-04  169.376405  202.100006  205.179993  167.593544  202.910004   \n",
            "2025-06-05  172.153066  200.149994  207.559998  169.146686  203.500000   \n",
            "2025-06-06  175.618903  202.050003  210.500000  172.093142  203.000000   \n",
            "2025-06-09  177.914993  200.020004  212.880005  175.660004  204.389999   \n",
            "\n",
            "Price                                 Volume                      \n",
            "Ticker            AMZN        GOOG      AAPL      AMZN      GOOG  \n",
            "Date                                                              \n",
            "2025-01-02  222.029999  191.037461  55740700  33956600  17545200  \n",
            "2025-01-03  222.509995  192.274582  40244100  27515600  12875000  \n",
            "2025-01-06  226.779999  194.693900  45045600  31849800  19483300  \n",
            "2025-01-07  227.899994  197.806611  40856000  28084200  16966800  \n",
            "2025-01-08  223.190002  193.496713  37628900  25033300  14335300  \n",
            "...                ...         ...       ...       ...       ...  \n",
            "2025-06-03  207.110001  168.662279  46381600  33139100  25386700  \n",
            "2025-06-04  206.550003  168.077962  43604000  29915600  18508700  \n",
            "2025-06-05  209.550003  171.413949  55126100  51864200  25375400  \n",
            "2025-06-06  212.399994  172.093142  46607700  39832500  22258100  \n",
            "2025-06-09  214.750000  175.869995  72862600  38102500  18817600  \n",
            "\n",
            "[108 rows x 15 columns]\n"
          ]
        }
      ]
    },
    {
      "cell_type": "markdown",
      "source": [
        "**10. Visualization with yfinance**.  \n",
        "Visualize historical data with ease."
      ],
      "metadata": {
        "id": "JKQDl-YfE2iP"
      }
    },
    {
      "cell_type": "code",
      "source": [
        "import matplotlib.pyplot as plt\n",
        "import seaborn as sns\n",
        "\n",
        "data = yf.download(\"AAPL GOOG AMZN\", start=\"2025-01-01\", end=\"2025-06-01\")\n",
        "data['Close'].plot()\n",
        "\n",
        "# create a histogram using seaborn\n",
        "sns.set_style(\"darkgrid\")\n",
        "\n",
        "\n",
        "plt.xlabel(\"Data\")\n",
        "plt.ylabel(\"Price\")\n",
        "plt.title(\"Company Stock Prices\")\n",
        "plt.show()"
      ],
      "metadata": {
        "colab": {
          "base_uri": "https://localhost:8080/",
          "height": 472
        },
        "id": "tajv8oM09cMe",
        "outputId": "e5b2698f-6370-4c45-fa6f-f97b87120771"
      },
      "execution_count": 19,
      "outputs": [
        {
          "output_type": "stream",
          "name": "stderr",
          "text": [
            "[*********************100%***********************]  3 of 3 completed\n"
          ]
        },
        {
          "output_type": "display_data",
          "data": {
            "text/plain": [
              "<Figure size 640x480 with 1 Axes>"
            ],
            "image/png": "[encoded data removed]"
          },
          "metadata": {}
        }
      ]
    }
  ]
}